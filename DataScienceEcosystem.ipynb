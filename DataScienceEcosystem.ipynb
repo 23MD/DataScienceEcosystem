{
 "cells": [
  {
   "cell_type": "markdown",
   "id": "a1d6f803-0634-4d8e-aa75-3dc928f70be2",
   "metadata": {
    "tags": []
   },
   "source": [
    "# Data Science Tools and Ecosystem"
   ]
  },
  {
   "cell_type": "markdown",
   "id": "3ce67d59-6e00-4ebd-a016-ed2e2f1bc730",
   "metadata": {},
   "source": [
    "In this notebook, Data Science Tools and Ecosystem are summarized."
   ]
  },
  {
   "cell_type": "markdown",
   "id": "d3957e15-e9a7-4010-bd1e-dc0e0ee0b730",
   "metadata": {},
   "source": [
    "**Objectives :**\n",
    "+ Some of the popular languages that Data Scientist use.\n",
    "+ Some of the commonly used libraries used by Data Scientists.\n",
    "+ Data Science Tools.\n",
    "+ Simple Arithmetic expression."
   ]
  },
  {
   "cell_type": "markdown",
   "id": "951bee1a-5213-4367-9907-9ea46124a3a7",
   "metadata": {},
   "source": [
    "Some of the popular languages that Data Scientists use are:\n",
    "1. Python\n",
    "2. R language\n",
    "3. Scala\n",
    "4. Julia\n",
    "5. SQL\n",
    "6. Perl\n",
    "7. Ruby\n",
    "8. Go"
   ]
  },
  {
   "cell_type": "markdown",
   "id": "59b3e19d-ffca-4999-a058-d9bf572fbb6d",
   "metadata": {},
   "source": [
    "Some of the commonly used libraries used by Data Scientists include:\n",
    "1. Pandas\n",
    "2. Matplotlib\n",
    "3. TensorFlow \n",
    "4. Dplyr\n",
    "5. GGplot\n",
    "6. MLlib\n",
    "7. Plotly\n",
    "    "
   ]
  },
  {
   "cell_type": "markdown",
   "id": "63908d40-fd3c-4050-bd4a-75fa8cbd2f90",
   "metadata": {},
   "source": [
    "|Data Science Tools|\n",
    "|------------------|\n",
    "|Jupyter Lab|\n",
    "|R studio|\n",
    "|Apache Spark|"
   ]
  },
  {
   "cell_type": "markdown",
   "id": "b26c4146-bfdc-4cac-bfde-b83aaece1f56",
   "metadata": {},
   "source": [
    "### Below are a few examples of evaluating arithmetic expressions in Python"
   ]
  },
  {
   "cell_type": "code",
   "execution_count": 10,
   "id": "9d584906-31b6-45ea-b678-beeb2a3bd5c4",
   "metadata": {},
   "outputs": [
    {
     "data": {
      "text/plain": [
       "17"
      ]
     },
     "execution_count": 10,
     "metadata": {},
     "output_type": "execute_result"
    }
   ],
   "source": [
    "#This a simple arithmetic expression to mutiply then add integers\n",
    "(3*4)+5"
   ]
  },
  {
   "cell_type": "code",
   "execution_count": 11,
   "id": "5182f1de-7aea-4da1-9798-9dcf4734ae6b",
   "metadata": {},
   "outputs": [
    {
     "data": {
      "text/plain": [
       "3.3333333333333335"
      ]
     },
     "execution_count": 11,
     "metadata": {},
     "output_type": "execute_result"
    }
   ],
   "source": [
    "#This will convert 200 minutes to hours by diving by 60\n",
    "200/60"
   ]
  },
  {
   "cell_type": "markdown",
   "id": "5f6834bb-6cae-499c-917d-919703e41714",
   "metadata": {},
   "source": [
    "## Author\n",
    "Mihir Damania"
   ]
  }
 ],
 "metadata": {
  "kernelspec": {
   "display_name": "Python 3 (ipykernel)",
   "language": "python",
   "name": "python3"
  },
  "language_info": {
   "codemirror_mode": {
    "name": "ipython",
    "version": 3
   },
   "file_extension": ".py",
   "mimetype": "text/x-python",
   "name": "python",
   "nbconvert_exporter": "python",
   "pygments_lexer": "ipython3",
   "version": "3.9.13"
  }
 },
 "nbformat": 4,
 "nbformat_minor": 5
}
